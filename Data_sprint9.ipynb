{
 "cells": [
  {
   "cell_type": "markdown",
   "metadata": {},
   "source": [
    "# Nilanjan Kumar\n",
    "\n",
    "### LinkedIn profile - https://www.linkedin.com/in/nilanjan-kumar-05057b136/\n",
    "\n",
    "### https://dphi.tech/practice/challenge/38#data"
   ]
  },
  {
   "cell_type": "code",
   "execution_count": 31,
   "metadata": {},
   "outputs": [],
   "source": [
    "#importing necessary libraries\n",
    "import numpy as np\n",
    "import pandas as pd\n",
    "import matplotlib.pyplot as plt\n",
    "%matplotlib inline\n",
    "\n",
    "#importing ML libraries\n",
    "from sklearn.model_selection import train_test_split\n",
    "from sklearn.preprocessing import LabelEncoder\n",
    "\n",
    "#ignoring the warnings\n",
    "import warnings\n",
    "warnings.filterwarnings('ignore')"
   ]
  },
  {
   "cell_type": "code",
   "execution_count": 127,
   "metadata": {},
   "outputs": [],
   "source": [
    "audit_data  = pd.read_csv(\"https://raw.githubusercontent.com/dphi-official/Datasets/master/credit_risk/training_set_labels.csv\" )"
   ]
  },
  {
   "cell_type": "code",
   "execution_count": 128,
   "metadata": {},
   "outputs": [
    {
     "data": {
      "text/html": [
       "<div>\n",
       "<style scoped>\n",
       "    .dataframe tbody tr th:only-of-type {\n",
       "        vertical-align: middle;\n",
       "    }\n",
       "\n",
       "    .dataframe tbody tr th {\n",
       "        vertical-align: top;\n",
       "    }\n",
       "\n",
       "    .dataframe thead th {\n",
       "        text-align: right;\n",
       "    }\n",
       "</style>\n",
       "<table border=\"1\" class=\"dataframe\">\n",
       "  <thead>\n",
       "    <tr style=\"text-align: right;\">\n",
       "      <th></th>\n",
       "      <th>checking_status</th>\n",
       "      <th>duration</th>\n",
       "      <th>credit_history</th>\n",
       "      <th>purpose</th>\n",
       "      <th>credit_amount</th>\n",
       "      <th>savings_status</th>\n",
       "      <th>employment</th>\n",
       "      <th>installment_commitment</th>\n",
       "      <th>personal_status</th>\n",
       "      <th>other_parties</th>\n",
       "      <th>...</th>\n",
       "      <th>property_magnitude</th>\n",
       "      <th>age</th>\n",
       "      <th>other_payment_plans</th>\n",
       "      <th>housing</th>\n",
       "      <th>existing_credits</th>\n",
       "      <th>job</th>\n",
       "      <th>num_dependents</th>\n",
       "      <th>own_telephone</th>\n",
       "      <th>foreign_worker</th>\n",
       "      <th>class</th>\n",
       "    </tr>\n",
       "  </thead>\n",
       "  <tbody>\n",
       "    <tr>\n",
       "      <th>0</th>\n",
       "      <td>'no checking'</td>\n",
       "      <td>18</td>\n",
       "      <td>'critical/other existing credit'</td>\n",
       "      <td>radio/tv</td>\n",
       "      <td>1800</td>\n",
       "      <td>'&lt;100'</td>\n",
       "      <td>'1&lt;=X&lt;4'</td>\n",
       "      <td>4</td>\n",
       "      <td>'male single'</td>\n",
       "      <td>none</td>\n",
       "      <td>...</td>\n",
       "      <td>car</td>\n",
       "      <td>24</td>\n",
       "      <td>none</td>\n",
       "      <td>own</td>\n",
       "      <td>2</td>\n",
       "      <td>skilled</td>\n",
       "      <td>1</td>\n",
       "      <td>none</td>\n",
       "      <td>yes</td>\n",
       "      <td>good</td>\n",
       "    </tr>\n",
       "    <tr>\n",
       "      <th>1</th>\n",
       "      <td>'&lt;0'</td>\n",
       "      <td>24</td>\n",
       "      <td>'existing paid'</td>\n",
       "      <td>radio/tv</td>\n",
       "      <td>2439</td>\n",
       "      <td>'&lt;100'</td>\n",
       "      <td>'&lt;1'</td>\n",
       "      <td>4</td>\n",
       "      <td>'female div/dep/mar'</td>\n",
       "      <td>none</td>\n",
       "      <td>...</td>\n",
       "      <td>'real estate'</td>\n",
       "      <td>35</td>\n",
       "      <td>none</td>\n",
       "      <td>own</td>\n",
       "      <td>1</td>\n",
       "      <td>skilled</td>\n",
       "      <td>1</td>\n",
       "      <td>yes</td>\n",
       "      <td>yes</td>\n",
       "      <td>bad</td>\n",
       "    </tr>\n",
       "    <tr>\n",
       "      <th>2</th>\n",
       "      <td>'no checking'</td>\n",
       "      <td>36</td>\n",
       "      <td>'no credits/all paid'</td>\n",
       "      <td>repairs</td>\n",
       "      <td>2613</td>\n",
       "      <td>'&lt;100'</td>\n",
       "      <td>'1&lt;=X&lt;4'</td>\n",
       "      <td>4</td>\n",
       "      <td>'male single'</td>\n",
       "      <td>none</td>\n",
       "      <td>...</td>\n",
       "      <td>car</td>\n",
       "      <td>27</td>\n",
       "      <td>none</td>\n",
       "      <td>own</td>\n",
       "      <td>2</td>\n",
       "      <td>skilled</td>\n",
       "      <td>1</td>\n",
       "      <td>none</td>\n",
       "      <td>yes</td>\n",
       "      <td>good</td>\n",
       "    </tr>\n",
       "    <tr>\n",
       "      <th>3</th>\n",
       "      <td>'no checking'</td>\n",
       "      <td>15</td>\n",
       "      <td>'existing paid'</td>\n",
       "      <td>education</td>\n",
       "      <td>4623</td>\n",
       "      <td>'100&lt;=X&lt;500'</td>\n",
       "      <td>'1&lt;=X&lt;4'</td>\n",
       "      <td>3</td>\n",
       "      <td>'male single'</td>\n",
       "      <td>none</td>\n",
       "      <td>...</td>\n",
       "      <td>'life insurance'</td>\n",
       "      <td>40</td>\n",
       "      <td>none</td>\n",
       "      <td>own</td>\n",
       "      <td>1</td>\n",
       "      <td>'high qualif/self emp/mgmt'</td>\n",
       "      <td>1</td>\n",
       "      <td>yes</td>\n",
       "      <td>yes</td>\n",
       "      <td>bad</td>\n",
       "    </tr>\n",
       "    <tr>\n",
       "      <th>4</th>\n",
       "      <td>'&lt;0'</td>\n",
       "      <td>21</td>\n",
       "      <td>'existing paid'</td>\n",
       "      <td>furniture/equipment</td>\n",
       "      <td>3599</td>\n",
       "      <td>'&lt;100'</td>\n",
       "      <td>'4&lt;=X&lt;7'</td>\n",
       "      <td>1</td>\n",
       "      <td>'female div/dep/mar'</td>\n",
       "      <td>none</td>\n",
       "      <td>...</td>\n",
       "      <td>car</td>\n",
       "      <td>26</td>\n",
       "      <td>none</td>\n",
       "      <td>rent</td>\n",
       "      <td>1</td>\n",
       "      <td>'unskilled resident'</td>\n",
       "      <td>1</td>\n",
       "      <td>none</td>\n",
       "      <td>yes</td>\n",
       "      <td>good</td>\n",
       "    </tr>\n",
       "  </tbody>\n",
       "</table>\n",
       "<p>5 rows × 21 columns</p>\n",
       "</div>"
      ],
      "text/plain": [
       "  checking_status  duration                    credit_history  \\\n",
       "0   'no checking'        18  'critical/other existing credit'   \n",
       "1            '<0'        24                   'existing paid'   \n",
       "2   'no checking'        36             'no credits/all paid'   \n",
       "3   'no checking'        15                   'existing paid'   \n",
       "4            '<0'        21                   'existing paid'   \n",
       "\n",
       "               purpose  credit_amount savings_status employment  \\\n",
       "0             radio/tv           1800         '<100'   '1<=X<4'   \n",
       "1             radio/tv           2439         '<100'       '<1'   \n",
       "2              repairs           2613         '<100'   '1<=X<4'   \n",
       "3            education           4623   '100<=X<500'   '1<=X<4'   \n",
       "4  furniture/equipment           3599         '<100'   '4<=X<7'   \n",
       "\n",
       "   installment_commitment       personal_status other_parties  ...  \\\n",
       "0                       4         'male single'          none  ...   \n",
       "1                       4  'female div/dep/mar'          none  ...   \n",
       "2                       4         'male single'          none  ...   \n",
       "3                       3         'male single'          none  ...   \n",
       "4                       1  'female div/dep/mar'          none  ...   \n",
       "\n",
       "   property_magnitude age  other_payment_plans housing existing_credits  \\\n",
       "0                 car  24                 none     own                2   \n",
       "1       'real estate'  35                 none     own                1   \n",
       "2                 car  27                 none     own                2   \n",
       "3    'life insurance'  40                 none     own                1   \n",
       "4                 car  26                 none    rent                1   \n",
       "\n",
       "                           job num_dependents  own_telephone foreign_worker  \\\n",
       "0                      skilled              1           none            yes   \n",
       "1                      skilled              1            yes            yes   \n",
       "2                      skilled              1           none            yes   \n",
       "3  'high qualif/self emp/mgmt'              1            yes            yes   \n",
       "4         'unskilled resident'              1           none            yes   \n",
       "\n",
       "  class  \n",
       "0  good  \n",
       "1   bad  \n",
       "2  good  \n",
       "3   bad  \n",
       "4  good  \n",
       "\n",
       "[5 rows x 21 columns]"
      ]
     },
     "execution_count": 128,
     "metadata": {},
     "output_type": "execute_result"
    }
   ],
   "source": [
    "audit_data.head()"
   ]
  },
  {
   "cell_type": "code",
   "execution_count": 129,
   "metadata": {},
   "outputs": [],
   "source": [
    "audit_data['class'].replace([\"good\",\"bad\"], [1,0], inplace=True)"
   ]
  },
  {
   "cell_type": "code",
   "execution_count": 130,
   "metadata": {},
   "outputs": [
    {
     "data": {
      "text/plain": [
       "1    560\n",
       "0    240\n",
       "Name: class, dtype: int64"
      ]
     },
     "execution_count": 130,
     "metadata": {},
     "output_type": "execute_result"
    }
   ],
   "source": [
    "audit_data[\"class\"].value_counts()"
   ]
  },
  {
   "cell_type": "code",
   "execution_count": 131,
   "metadata": {},
   "outputs": [
    {
     "data": {
      "text/plain": [
       "yes    772\n",
       "no      28\n",
       "Name: foreign_worker, dtype: int64"
      ]
     },
     "execution_count": 131,
     "metadata": {},
     "output_type": "execute_result"
    }
   ],
   "source": [
    "audit_data[\"foreign_worker\"].value_counts()"
   ]
  },
  {
   "cell_type": "code",
   "execution_count": 132,
   "metadata": {},
   "outputs": [
    {
     "data": {
      "text/plain": [
       "none    476\n",
       "yes     324\n",
       "Name: own_telephone, dtype: int64"
      ]
     },
     "execution_count": 132,
     "metadata": {},
     "output_type": "execute_result"
    }
   ],
   "source": [
    "audit_data[\"own_telephone\"].value_counts()"
   ]
  },
  {
   "cell_type": "code",
   "execution_count": 133,
   "metadata": {},
   "outputs": [
    {
     "data": {
      "text/plain": [
       "1    686\n",
       "2    114\n",
       "Name: num_dependents, dtype: int64"
      ]
     },
     "execution_count": 133,
     "metadata": {},
     "output_type": "execute_result"
    }
   ],
   "source": [
    "audit_data[\"num_dependents\"].value_counts()"
   ]
  },
  {
   "cell_type": "code",
   "execution_count": 134,
   "metadata": {},
   "outputs": [
    {
     "data": {
      "text/plain": [
       "skilled                        507\n",
       "'unskilled resident'           154\n",
       "'high qualif/self emp/mgmt'    120\n",
       "'unemp/unskilled non res'       19\n",
       "Name: job, dtype: int64"
      ]
     },
     "execution_count": 134,
     "metadata": {},
     "output_type": "execute_result"
    }
   ],
   "source": [
    "audit_data[\"job\"].value_counts()"
   ]
  },
  {
   "cell_type": "code",
   "execution_count": 135,
   "metadata": {},
   "outputs": [
    {
     "data": {
      "text/plain": [
       "1    503\n",
       "2    270\n",
       "3     23\n",
       "4      4\n",
       "Name: existing_credits, dtype: int64"
      ]
     },
     "execution_count": 135,
     "metadata": {},
     "output_type": "execute_result"
    }
   ],
   "source": [
    "audit_data[\"existing_credits\"].value_counts()"
   ]
  },
  {
   "cell_type": "code",
   "execution_count": 136,
   "metadata": {},
   "outputs": [
    {
     "data": {
      "text/plain": [
       "own           565\n",
       "rent          149\n",
       "'for free'     86\n",
       "Name: housing, dtype: int64"
      ]
     },
     "execution_count": 136,
     "metadata": {},
     "output_type": "execute_result"
    }
   ],
   "source": [
    "audit_data[\"housing\"].value_counts()"
   ]
  },
  {
   "cell_type": "code",
   "execution_count": 137,
   "metadata": {},
   "outputs": [
    {
     "data": {
      "text/plain": [
       "none      649\n",
       "bank      112\n",
       "stores     39\n",
       "Name: other_payment_plans, dtype: int64"
      ]
     },
     "execution_count": 137,
     "metadata": {},
     "output_type": "execute_result"
    }
   ],
   "source": [
    "audit_data[\"other_payment_plans\"].value_counts()"
   ]
  },
  {
   "cell_type": "code",
   "execution_count": 138,
   "metadata": {},
   "outputs": [
    {
     "data": {
      "text/plain": [
       "Index(['checking_status', 'duration', 'credit_history', 'purpose',\n",
       "       'credit_amount', 'savings_status', 'employment',\n",
       "       'installment_commitment', 'personal_status', 'other_parties',\n",
       "       'residence_since', 'property_magnitude', 'age', 'other_payment_plans',\n",
       "       'housing', 'existing_credits', 'job', 'num_dependents', 'own_telephone',\n",
       "       'foreign_worker', 'class'],\n",
       "      dtype='object')"
      ]
     },
     "execution_count": 138,
     "metadata": {},
     "output_type": "execute_result"
    }
   ],
   "source": [
    "audit_data.columns"
   ]
  },
  {
   "cell_type": "code",
   "execution_count": 139,
   "metadata": {},
   "outputs": [
    {
     "data": {
      "text/plain": [
       "car                    261\n",
       "'real estate'          226\n",
       "'life insurance'       190\n",
       "'no known property'    123\n",
       "Name: property_magnitude, dtype: int64"
      ]
     },
     "execution_count": 139,
     "metadata": {},
     "output_type": "execute_result"
    }
   ],
   "source": [
    "audit_data[\"property_magnitude\"].value_counts()"
   ]
  },
  {
   "cell_type": "code",
   "execution_count": 140,
   "metadata": {},
   "outputs": [
    {
     "data": {
      "text/plain": [
       "4    338\n",
       "2    243\n",
       "3    123\n",
       "1     96\n",
       "Name: residence_since, dtype: int64"
      ]
     },
     "execution_count": 140,
     "metadata": {},
     "output_type": "execute_result"
    }
   ],
   "source": [
    "audit_data[\"residence_since\"].value_counts()"
   ]
  },
  {
   "cell_type": "code",
   "execution_count": 141,
   "metadata": {},
   "outputs": [
    {
     "data": {
      "text/plain": [
       "none              726\n",
       "guarantor          39\n",
       "'co applicant'     35\n",
       "Name: other_parties, dtype: int64"
      ]
     },
     "execution_count": 141,
     "metadata": {},
     "output_type": "execute_result"
    }
   ],
   "source": [
    "audit_data[\"other_parties\"].value_counts()"
   ]
  },
  {
   "cell_type": "code",
   "execution_count": 142,
   "metadata": {},
   "outputs": [
    {
     "data": {
      "text/plain": [
       "'male single'           429\n",
       "'female div/dep/mar'    252\n",
       "'male mar/wid'           74\n",
       "'male div/sep'           45\n",
       "Name: personal_status, dtype: int64"
      ]
     },
     "execution_count": 142,
     "metadata": {},
     "output_type": "execute_result"
    }
   ],
   "source": [
    "audit_data[\"personal_status\"].value_counts()"
   ]
  },
  {
   "cell_type": "code",
   "execution_count": 143,
   "metadata": {},
   "outputs": [
    {
     "name": "stdout",
     "output_type": "stream",
     "text": [
      "<class 'pandas.core.frame.DataFrame'>\n",
      "RangeIndex: 800 entries, 0 to 799\n",
      "Data columns (total 21 columns):\n",
      "checking_status           800 non-null object\n",
      "duration                  800 non-null int64\n",
      "credit_history            800 non-null object\n",
      "purpose                   800 non-null object\n",
      "credit_amount             800 non-null int64\n",
      "savings_status            800 non-null object\n",
      "employment                800 non-null object\n",
      "installment_commitment    800 non-null int64\n",
      "personal_status           800 non-null object\n",
      "other_parties             800 non-null object\n",
      "residence_since           800 non-null int64\n",
      "property_magnitude        800 non-null object\n",
      "age                       800 non-null int64\n",
      "other_payment_plans       800 non-null object\n",
      "housing                   800 non-null object\n",
      "existing_credits          800 non-null int64\n",
      "job                       800 non-null object\n",
      "num_dependents            800 non-null int64\n",
      "own_telephone             800 non-null object\n",
      "foreign_worker            800 non-null object\n",
      "class                     800 non-null int64\n",
      "dtypes: int64(8), object(13)\n",
      "memory usage: 131.3+ KB\n"
     ]
    }
   ],
   "source": [
    "audit_data.info()"
   ]
  },
  {
   "cell_type": "code",
   "execution_count": 144,
   "metadata": {},
   "outputs": [
    {
     "data": {
      "text/html": [
       "<div>\n",
       "<style scoped>\n",
       "    .dataframe tbody tr th:only-of-type {\n",
       "        vertical-align: middle;\n",
       "    }\n",
       "\n",
       "    .dataframe tbody tr th {\n",
       "        vertical-align: top;\n",
       "    }\n",
       "\n",
       "    .dataframe thead th {\n",
       "        text-align: right;\n",
       "    }\n",
       "</style>\n",
       "<table border=\"1\" class=\"dataframe\">\n",
       "  <thead>\n",
       "    <tr style=\"text-align: right;\">\n",
       "      <th></th>\n",
       "      <th>checking_status</th>\n",
       "      <th>duration</th>\n",
       "      <th>credit_history</th>\n",
       "      <th>purpose</th>\n",
       "      <th>credit_amount</th>\n",
       "      <th>savings_status</th>\n",
       "      <th>employment</th>\n",
       "      <th>installment_commitment</th>\n",
       "      <th>personal_status</th>\n",
       "      <th>other_parties</th>\n",
       "      <th>...</th>\n",
       "      <th>property_magnitude</th>\n",
       "      <th>age</th>\n",
       "      <th>other_payment_plans</th>\n",
       "      <th>housing</th>\n",
       "      <th>existing_credits</th>\n",
       "      <th>job</th>\n",
       "      <th>num_dependents</th>\n",
       "      <th>own_telephone</th>\n",
       "      <th>foreign_worker</th>\n",
       "      <th>class</th>\n",
       "    </tr>\n",
       "  </thead>\n",
       "  <tbody>\n",
       "    <tr>\n",
       "      <th>0</th>\n",
       "      <td>'no checking'</td>\n",
       "      <td>18</td>\n",
       "      <td>'critical/other existing credit'</td>\n",
       "      <td>radio/tv</td>\n",
       "      <td>1800</td>\n",
       "      <td>'&lt;100'</td>\n",
       "      <td>'1&lt;=X&lt;4'</td>\n",
       "      <td>4</td>\n",
       "      <td>'male single'</td>\n",
       "      <td>none</td>\n",
       "      <td>...</td>\n",
       "      <td>car</td>\n",
       "      <td>24</td>\n",
       "      <td>none</td>\n",
       "      <td>own</td>\n",
       "      <td>2</td>\n",
       "      <td>skilled</td>\n",
       "      <td>1</td>\n",
       "      <td>none</td>\n",
       "      <td>yes</td>\n",
       "      <td>1</td>\n",
       "    </tr>\n",
       "    <tr>\n",
       "      <th>1</th>\n",
       "      <td>'&lt;0'</td>\n",
       "      <td>24</td>\n",
       "      <td>'existing paid'</td>\n",
       "      <td>radio/tv</td>\n",
       "      <td>2439</td>\n",
       "      <td>'&lt;100'</td>\n",
       "      <td>'&lt;1'</td>\n",
       "      <td>4</td>\n",
       "      <td>'female div/dep/mar'</td>\n",
       "      <td>none</td>\n",
       "      <td>...</td>\n",
       "      <td>'real estate'</td>\n",
       "      <td>35</td>\n",
       "      <td>none</td>\n",
       "      <td>own</td>\n",
       "      <td>1</td>\n",
       "      <td>skilled</td>\n",
       "      <td>1</td>\n",
       "      <td>yes</td>\n",
       "      <td>yes</td>\n",
       "      <td>0</td>\n",
       "    </tr>\n",
       "    <tr>\n",
       "      <th>2</th>\n",
       "      <td>'no checking'</td>\n",
       "      <td>36</td>\n",
       "      <td>'no credits/all paid'</td>\n",
       "      <td>repairs</td>\n",
       "      <td>2613</td>\n",
       "      <td>'&lt;100'</td>\n",
       "      <td>'1&lt;=X&lt;4'</td>\n",
       "      <td>4</td>\n",
       "      <td>'male single'</td>\n",
       "      <td>none</td>\n",
       "      <td>...</td>\n",
       "      <td>car</td>\n",
       "      <td>27</td>\n",
       "      <td>none</td>\n",
       "      <td>own</td>\n",
       "      <td>2</td>\n",
       "      <td>skilled</td>\n",
       "      <td>1</td>\n",
       "      <td>none</td>\n",
       "      <td>yes</td>\n",
       "      <td>1</td>\n",
       "    </tr>\n",
       "    <tr>\n",
       "      <th>3</th>\n",
       "      <td>'no checking'</td>\n",
       "      <td>15</td>\n",
       "      <td>'existing paid'</td>\n",
       "      <td>education</td>\n",
       "      <td>4623</td>\n",
       "      <td>'100&lt;=X&lt;500'</td>\n",
       "      <td>'1&lt;=X&lt;4'</td>\n",
       "      <td>3</td>\n",
       "      <td>'male single'</td>\n",
       "      <td>none</td>\n",
       "      <td>...</td>\n",
       "      <td>'life insurance'</td>\n",
       "      <td>40</td>\n",
       "      <td>none</td>\n",
       "      <td>own</td>\n",
       "      <td>1</td>\n",
       "      <td>'high qualif/self emp/mgmt'</td>\n",
       "      <td>1</td>\n",
       "      <td>yes</td>\n",
       "      <td>yes</td>\n",
       "      <td>0</td>\n",
       "    </tr>\n",
       "    <tr>\n",
       "      <th>4</th>\n",
       "      <td>'&lt;0'</td>\n",
       "      <td>21</td>\n",
       "      <td>'existing paid'</td>\n",
       "      <td>furniture/equipment</td>\n",
       "      <td>3599</td>\n",
       "      <td>'&lt;100'</td>\n",
       "      <td>'4&lt;=X&lt;7'</td>\n",
       "      <td>1</td>\n",
       "      <td>'female div/dep/mar'</td>\n",
       "      <td>none</td>\n",
       "      <td>...</td>\n",
       "      <td>car</td>\n",
       "      <td>26</td>\n",
       "      <td>none</td>\n",
       "      <td>rent</td>\n",
       "      <td>1</td>\n",
       "      <td>'unskilled resident'</td>\n",
       "      <td>1</td>\n",
       "      <td>none</td>\n",
       "      <td>yes</td>\n",
       "      <td>1</td>\n",
       "    </tr>\n",
       "  </tbody>\n",
       "</table>\n",
       "<p>5 rows × 21 columns</p>\n",
       "</div>"
      ],
      "text/plain": [
       "  checking_status  duration                    credit_history  \\\n",
       "0   'no checking'        18  'critical/other existing credit'   \n",
       "1            '<0'        24                   'existing paid'   \n",
       "2   'no checking'        36             'no credits/all paid'   \n",
       "3   'no checking'        15                   'existing paid'   \n",
       "4            '<0'        21                   'existing paid'   \n",
       "\n",
       "               purpose  credit_amount savings_status employment  \\\n",
       "0             radio/tv           1800         '<100'   '1<=X<4'   \n",
       "1             radio/tv           2439         '<100'       '<1'   \n",
       "2              repairs           2613         '<100'   '1<=X<4'   \n",
       "3            education           4623   '100<=X<500'   '1<=X<4'   \n",
       "4  furniture/equipment           3599         '<100'   '4<=X<7'   \n",
       "\n",
       "   installment_commitment       personal_status other_parties  ...  \\\n",
       "0                       4         'male single'          none  ...   \n",
       "1                       4  'female div/dep/mar'          none  ...   \n",
       "2                       4         'male single'          none  ...   \n",
       "3                       3         'male single'          none  ...   \n",
       "4                       1  'female div/dep/mar'          none  ...   \n",
       "\n",
       "   property_magnitude age  other_payment_plans housing existing_credits  \\\n",
       "0                 car  24                 none     own                2   \n",
       "1       'real estate'  35                 none     own                1   \n",
       "2                 car  27                 none     own                2   \n",
       "3    'life insurance'  40                 none     own                1   \n",
       "4                 car  26                 none    rent                1   \n",
       "\n",
       "                           job num_dependents  own_telephone foreign_worker  \\\n",
       "0                      skilled              1           none            yes   \n",
       "1                      skilled              1            yes            yes   \n",
       "2                      skilled              1           none            yes   \n",
       "3  'high qualif/self emp/mgmt'              1            yes            yes   \n",
       "4         'unskilled resident'              1           none            yes   \n",
       "\n",
       "  class  \n",
       "0     1  \n",
       "1     0  \n",
       "2     1  \n",
       "3     0  \n",
       "4     1  \n",
       "\n",
       "[5 rows x 21 columns]"
      ]
     },
     "execution_count": 144,
     "metadata": {},
     "output_type": "execute_result"
    }
   ],
   "source": [
    "audit_data.head()"
   ]
  },
  {
   "cell_type": "code",
   "execution_count": 145,
   "metadata": {},
   "outputs": [],
   "source": [
    "X = audit_data.drop(['class'], axis=1)\n",
    "Y = audit_data['class']"
   ]
  },
  {
   "cell_type": "code",
   "execution_count": 146,
   "metadata": {},
   "outputs": [],
   "source": [
    "#numerical variables labels\n",
    "numvars = ['credit_amount', 'duration', 'installment_commitment', 'residence_since', 'age', \n",
    "           'existing_credits', 'num_dependents']"
   ]
  },
  {
   "cell_type": "code",
   "execution_count": 147,
   "metadata": {},
   "outputs": [],
   "source": [
    "from sklearn.preprocessing import StandardScaler\n",
    "\n",
    "numdata_std = pd.DataFrame(StandardScaler().fit_transform(X[numvars]))"
   ]
  },
  {
   "cell_type": "code",
   "execution_count": 148,
   "metadata": {},
   "outputs": [
    {
     "data": {
      "text/plain": [
       "Index(['checking_status', 'duration', 'credit_history', 'purpose',\n",
       "       'credit_amount', 'savings_status', 'employment',\n",
       "       'installment_commitment', 'personal_status', 'other_parties',\n",
       "       'residence_since', 'property_magnitude', 'age', 'other_payment_plans',\n",
       "       'housing', 'existing_credits', 'job', 'num_dependents', 'own_telephone',\n",
       "       'foreign_worker'],\n",
       "      dtype='object')"
      ]
     },
     "execution_count": 148,
     "metadata": {},
     "output_type": "execute_result"
    }
   ],
   "source": [
    "X.columns"
   ]
  },
  {
   "cell_type": "code",
   "execution_count": 149,
   "metadata": {},
   "outputs": [
    {
     "name": "stdout",
     "output_type": "stream",
     "text": [
      "checking_status :  [\"'no checking'\" \"'<0'\" \"'0<=X<200'\" \"'>=200'\"]\n",
      "checking_status :  [3 1 0 2]\n",
      "credit_history :  [\"'critical/other existing credit'\" \"'existing paid'\"\n",
      " \"'no credits/all paid'\" \"'all paid'\" \"'delayed previously'\"]\n",
      "credit_history :  [1 3 4 0 2]\n",
      "purpose :  ['radio/tv' 'repairs' 'education' 'furniture/equipment' 'business'\n",
      " \"'used car'\" \"'new car'\" 'retraining' 'other' \"'domestic appliance'\"]\n",
      "purpose :  [7 8 4 5 3 2 1 9 6 0]\n",
      "savings_status :  [\"'<100'\" \"'100<=X<500'\" \"'no known savings'\" \"'>=1000'\" \"'500<=X<1000'\"]\n",
      "savings_status :  [2 0 4 3 1]\n",
      "employment :  [\"'1<=X<4'\" \"'<1'\" \"'4<=X<7'\" \"'>=7'\" 'unemployed']\n",
      "employment :  [0 2 1 3 4]\n",
      "personal_status :  [\"'male single'\" \"'female div/dep/mar'\" \"'male mar/wid'\" \"'male div/sep'\"]\n",
      "personal_status :  [3 0 2 1]\n",
      "other_parties :  ['none' 'guarantor' \"'co applicant'\"]\n",
      "other_parties :  [2 1 0]\n",
      "property_magnitude :  ['car' \"'real estate'\" \"'life insurance'\" \"'no known property'\"]\n",
      "property_magnitude :  [3 2 0 1]\n",
      "other_payment_plans :  ['none' 'bank' 'stores']\n",
      "other_payment_plans :  [1 0 2]\n",
      "housing :  ['own' 'rent' \"'for free'\"]\n",
      "housing :  [1 2 0]\n",
      "job :  ['skilled' \"'high qualif/self emp/mgmt'\" \"'unskilled resident'\"\n",
      " \"'unemp/unskilled non res'\"]\n",
      "job :  [3 0 2 1]\n",
      "own_telephone :  ['none' 'yes']\n",
      "own_telephone :  [0 1]\n",
      "foreign_worker :  ['yes' 'no']\n",
      "foreign_worker :  [1 0]\n"
     ]
    }
   ],
   "source": [
    "from collections import defaultdict\n",
    "\n",
    "#categorical variables labels\n",
    "catvars = ['checking_status', 'credit_history', 'purpose', 'savings_status', 'employment',\n",
    "           'personal_status', 'other_parties', 'property_magnitude', 'other_payment_plans', 'housing', 'job', \n",
    "           'own_telephone', 'foreign_worker']\n",
    "\n",
    "d = defaultdict(LabelEncoder)\n",
    "\n",
    "# Encoding the variable\n",
    "lecatdata = X[catvars].apply(lambda x: d[x.name].fit_transform(x))\n",
    "\n",
    "# print transformations\n",
    "for x in range(len(catvars)):\n",
    "    print(catvars[x],\": \", X[catvars[x]].unique())\n",
    "    print(catvars[x],\": \", lecatdata[catvars[x]].unique())\n",
    "\n",
    "#One hot encoding, create dummy variables for every category of every categorical variable\n",
    "dummyvars = pd.get_dummies(X[catvars])"
   ]
  },
  {
   "cell_type": "markdown",
   "metadata": {},
   "source": [
    "## Concate Transformed Dataset"
   ]
  },
  {
   "cell_type": "code",
   "execution_count": 150,
   "metadata": {},
   "outputs": [
    {
     "name": "stdout",
     "output_type": "stream",
     "text": [
      "(800, 61)\n"
     ]
    }
   ],
   "source": [
    "X_clean = pd.concat([X[numvars], dummyvars], axis = 1)\n",
    "\n",
    "print(X_clean.shape)"
   ]
  },
  {
   "cell_type": "code",
   "execution_count": 151,
   "metadata": {},
   "outputs": [],
   "source": [
    "X_clean = X_clean.drop(['purpose_other'],axis=1)"
   ]
  },
  {
   "cell_type": "markdown",
   "metadata": {},
   "source": [
    "## Test train split"
   ]
  },
  {
   "cell_type": "code",
   "execution_count": 152,
   "metadata": {},
   "outputs": [],
   "source": [
    "X_train_clean, X_test_clean, y_train_clean, y_test_clean = train_test_split(X_clean,Y,test_size=0.2, random_state=42)"
   ]
  },
  {
   "cell_type": "code",
   "execution_count": 153,
   "metadata": {},
   "outputs": [],
   "source": [
    "from sklearn.model_selection import KFold\n",
    "from sklearn.model_selection import cross_val_score\n",
    "from sklearn.metrics import confusion_matrix, accuracy_score\n",
    "k_fold = KFold(n_splits=10, shuffle=True, random_state=0)"
   ]
  },
  {
   "cell_type": "code",
   "execution_count": 154,
   "metadata": {},
   "outputs": [],
   "source": [
    "from sklearn.metrics import  accuracy_score, f1_score, precision_score,confusion_matrix, recall_score, roc_auc_score"
   ]
  },
  {
   "cell_type": "code",
   "execution_count": 155,
   "metadata": {},
   "outputs": [
    {
     "name": "stdout",
     "output_type": "stream",
     "text": [
      "[[29 23]\n",
      " [18 90]]\n",
      "74.0\n"
     ]
    }
   ],
   "source": [
    "from sklearn.linear_model import LogisticRegression\n",
    "logmodel = LogisticRegression() \n",
    "logmodel.fit(X_train_clean,y_train_clean)\n",
    "logpred = logmodel.predict(X_test_clean)\n",
    "\n",
    "\n",
    "print(confusion_matrix(y_test_clean, logpred))\n",
    "print(round(accuracy_score(y_test_clean, logpred),2)*100)\n",
    "LOGCV = (cross_val_score(logmodel, X_train_clean, y_train_clean, cv=k_fold, n_jobs=1, scoring = 'accuracy').mean())"
   ]
  },
  {
   "cell_type": "code",
   "execution_count": 156,
   "metadata": {},
   "outputs": [
    {
     "data": {
      "text/plain": [
       "DecisionTreeClassifier()"
      ]
     },
     "execution_count": 156,
     "metadata": {},
     "output_type": "execute_result"
    }
   ],
   "source": [
    "from sklearn.tree import DecisionTreeClassifier\n",
    "dtc = DecisionTreeClassifier()\n",
    "dtc.fit(X_train_clean,y_train_clean)"
   ]
  },
  {
   "cell_type": "code",
   "execution_count": 157,
   "metadata": {},
   "outputs": [
    {
     "data": {
      "text/plain": [
       "0.684375"
      ]
     },
     "execution_count": 157,
     "metadata": {},
     "output_type": "execute_result"
    }
   ],
   "source": [
    "from sklearn import model_selection\n",
    "\n",
    "kfold = model_selection.KFold(n_splits=10, random_state=7)\n",
    "scoring = 'accuracy'\n",
    "\n",
    "acc_logi = cross_val_score(estimator = dtc, X = X_train_clean, y = y_train_clean, cv = kfold,scoring=scoring)\n",
    "acc_logi.mean()"
   ]
  },
  {
   "cell_type": "code",
   "execution_count": 158,
   "metadata": {},
   "outputs": [
    {
     "data": {
      "text/html": [
       "<div>\n",
       "<style scoped>\n",
       "    .dataframe tbody tr th:only-of-type {\n",
       "        vertical-align: middle;\n",
       "    }\n",
       "\n",
       "    .dataframe tbody tr th {\n",
       "        vertical-align: top;\n",
       "    }\n",
       "\n",
       "    .dataframe thead th {\n",
       "        text-align: right;\n",
       "    }\n",
       "</style>\n",
       "<table border=\"1\" class=\"dataframe\">\n",
       "  <thead>\n",
       "    <tr style=\"text-align: right;\">\n",
       "      <th></th>\n",
       "      <th>Model</th>\n",
       "      <th>Accuracy</th>\n",
       "      <th>Cross Val Accuracy</th>\n",
       "      <th>Precision</th>\n",
       "      <th>Recall</th>\n",
       "      <th>F1 Score</th>\n",
       "      <th>ROC</th>\n",
       "    </tr>\n",
       "  </thead>\n",
       "  <tbody>\n",
       "    <tr>\n",
       "      <th>0</th>\n",
       "      <td>Decision Tree</td>\n",
       "      <td>0.65625</td>\n",
       "      <td>0.684375</td>\n",
       "      <td>0.747664</td>\n",
       "      <td>0.740741</td>\n",
       "      <td>0.744186</td>\n",
       "      <td>0.610755</td>\n",
       "    </tr>\n",
       "  </tbody>\n",
       "</table>\n",
       "</div>"
      ],
      "text/plain": [
       "           Model  Accuracy  Cross Val Accuracy  Precision    Recall  F1 Score  \\\n",
       "0  Decision Tree   0.65625            0.684375   0.747664  0.740741  0.744186   \n",
       "\n",
       "        ROC  \n",
       "0  0.610755  "
      ]
     },
     "execution_count": 158,
     "metadata": {},
     "output_type": "execute_result"
    }
   ],
   "source": [
    "y_predict_dtc = dtc.predict(X_test_clean)\n",
    "acc= accuracy_score(y_test_clean, y_predict_dtc)\n",
    "roc=roc_auc_score(y_test_clean,y_predict_dtc)\n",
    "prec = precision_score(y_test_clean, y_predict_dtc)\n",
    "rec = recall_score(y_test_clean, y_predict_dtc)\n",
    "f1 = f1_score(y_test_clean, y_predict_dtc)\n",
    "\n",
    "results = pd.DataFrame([['Decision Tree',acc, acc_logi.mean(),prec,rec, f1,roc]],\n",
    "               columns = ['Model', 'Accuracy','Cross Val Accuracy', 'Precision', 'Recall', 'F1 Score','ROC'])\n",
    "results"
   ]
  },
  {
   "cell_type": "code",
   "execution_count": 159,
   "metadata": {},
   "outputs": [],
   "source": [
    "from sklearn import model_selection\n",
    "from sklearn.linear_model import LogisticRegression\n",
    "from sklearn.metrics import  accuracy_score, f1_score, precision_score,confusion_matrix, recall_score, roc_auc_score\n",
    "from xgboost import XGBClassifier\n",
    "from sklearn.ensemble import RandomForestClassifier,AdaBoostClassifier\n",
    "from sklearn.svm import SVC \n",
    "plt.style.use('fivethirtyeight')"
   ]
  },
  {
   "cell_type": "code",
   "execution_count": 160,
   "metadata": {},
   "outputs": [
    {
     "data": {
      "text/plain": [
       "RandomForestClassifier()"
      ]
     },
     "execution_count": 160,
     "metadata": {},
     "output_type": "execute_result"
    }
   ],
   "source": [
    "random_forest_e = RandomForestClassifier()\n",
    "random_forest_e.fit(X_train_clean,y_train_clean)"
   ]
  },
  {
   "cell_type": "code",
   "execution_count": 161,
   "metadata": {},
   "outputs": [
    {
     "data": {
      "text/plain": [
       "0.7453125"
      ]
     },
     "execution_count": 161,
     "metadata": {},
     "output_type": "execute_result"
    }
   ],
   "source": [
    "acc_rande = cross_val_score(estimator = random_forest_e, X = X_train_clean, y = y_train_clean, cv = kfold, scoring=scoring)\n",
    "acc_rande.mean()"
   ]
  },
  {
   "cell_type": "code",
   "execution_count": 162,
   "metadata": {},
   "outputs": [
    {
     "data": {
      "text/html": [
       "<div>\n",
       "<style scoped>\n",
       "    .dataframe tbody tr th:only-of-type {\n",
       "        vertical-align: middle;\n",
       "    }\n",
       "\n",
       "    .dataframe tbody tr th {\n",
       "        vertical-align: top;\n",
       "    }\n",
       "\n",
       "    .dataframe thead th {\n",
       "        text-align: right;\n",
       "    }\n",
       "</style>\n",
       "<table border=\"1\" class=\"dataframe\">\n",
       "  <thead>\n",
       "    <tr style=\"text-align: right;\">\n",
       "      <th></th>\n",
       "      <th>Model</th>\n",
       "      <th>Accuracy</th>\n",
       "      <th>Cross Val Accuracy</th>\n",
       "      <th>Precision</th>\n",
       "      <th>Recall</th>\n",
       "      <th>F1 Score</th>\n",
       "      <th>ROC</th>\n",
       "    </tr>\n",
       "  </thead>\n",
       "  <tbody>\n",
       "    <tr>\n",
       "      <th>0</th>\n",
       "      <td>Decision Tree</td>\n",
       "      <td>0.65625</td>\n",
       "      <td>0.684375</td>\n",
       "      <td>0.747664</td>\n",
       "      <td>0.740741</td>\n",
       "      <td>0.744186</td>\n",
       "      <td>0.610755</td>\n",
       "    </tr>\n",
       "    <tr>\n",
       "      <th>1</th>\n",
       "      <td>Random Forest</td>\n",
       "      <td>0.75000</td>\n",
       "      <td>0.745313</td>\n",
       "      <td>0.769841</td>\n",
       "      <td>0.898148</td>\n",
       "      <td>0.829060</td>\n",
       "      <td>0.670228</td>\n",
       "    </tr>\n",
       "  </tbody>\n",
       "</table>\n",
       "</div>"
      ],
      "text/plain": [
       "           Model  Accuracy  Cross Val Accuracy  Precision    Recall  F1 Score  \\\n",
       "0  Decision Tree   0.65625            0.684375   0.747664  0.740741  0.744186   \n",
       "1  Random Forest   0.75000            0.745313   0.769841  0.898148  0.829060   \n",
       "\n",
       "        ROC  \n",
       "0  0.610755  \n",
       "1  0.670228  "
      ]
     },
     "execution_count": 162,
     "metadata": {},
     "output_type": "execute_result"
    }
   ],
   "source": [
    "y_predict_r = random_forest_e.predict(X_test_clean)\n",
    "roc=roc_auc_score(y_test_clean, y_predict_r)\n",
    "acc = accuracy_score(y_test_clean, y_predict_r)\n",
    "prec = precision_score(y_test_clean, y_predict_r)\n",
    "rec = recall_score(y_test_clean, y_predict_r)\n",
    "f1 = f1_score(y_test_clean, y_predict_r)\n",
    "\n",
    "model_results = pd.DataFrame([['Random Forest',acc, acc_rande.mean(),prec,rec, f1,roc]],\n",
    "               columns = ['Model', 'Accuracy','Cross Val Accuracy', 'Precision', 'Recall', 'F1 Score','ROC'])\n",
    "results = results.append(model_results, ignore_index = True)\n",
    "results"
   ]
  },
  {
   "cell_type": "code",
   "execution_count": 163,
   "metadata": {},
   "outputs": [
    {
     "data": {
      "text/plain": [
       "AdaBoostClassifier()"
      ]
     },
     "execution_count": 163,
     "metadata": {},
     "output_type": "execute_result"
    }
   ],
   "source": [
    "ada_boost_e = AdaBoostClassifier()\n",
    "ada_boost_e.fit(X_train_clean,y_train_clean)"
   ]
  },
  {
   "cell_type": "code",
   "execution_count": 164,
   "metadata": {},
   "outputs": [
    {
     "data": {
      "text/plain": [
       "0.7453125"
      ]
     },
     "execution_count": 164,
     "metadata": {},
     "output_type": "execute_result"
    }
   ],
   "source": [
    "acc_ada = cross_val_score(estimator = ada_boost_e, X = X_train_clean, y = y_train_clean, cv = kfold, scoring=scoring)\n",
    "acc_ada.mean()"
   ]
  },
  {
   "cell_type": "code",
   "execution_count": 165,
   "metadata": {},
   "outputs": [
    {
     "data": {
      "text/html": [
       "<div>\n",
       "<style scoped>\n",
       "    .dataframe tbody tr th:only-of-type {\n",
       "        vertical-align: middle;\n",
       "    }\n",
       "\n",
       "    .dataframe tbody tr th {\n",
       "        vertical-align: top;\n",
       "    }\n",
       "\n",
       "    .dataframe thead th {\n",
       "        text-align: right;\n",
       "    }\n",
       "</style>\n",
       "<table border=\"1\" class=\"dataframe\">\n",
       "  <thead>\n",
       "    <tr style=\"text-align: right;\">\n",
       "      <th></th>\n",
       "      <th>Model</th>\n",
       "      <th>Accuracy</th>\n",
       "      <th>Cross Val Accuracy</th>\n",
       "      <th>Precision</th>\n",
       "      <th>Recall</th>\n",
       "      <th>F1 Score</th>\n",
       "      <th>ROC</th>\n",
       "    </tr>\n",
       "  </thead>\n",
       "  <tbody>\n",
       "    <tr>\n",
       "      <th>0</th>\n",
       "      <td>Decision Tree</td>\n",
       "      <td>0.65625</td>\n",
       "      <td>0.684375</td>\n",
       "      <td>0.747664</td>\n",
       "      <td>0.740741</td>\n",
       "      <td>0.744186</td>\n",
       "      <td>0.610755</td>\n",
       "    </tr>\n",
       "    <tr>\n",
       "      <th>1</th>\n",
       "      <td>Random Forest</td>\n",
       "      <td>0.75000</td>\n",
       "      <td>0.745313</td>\n",
       "      <td>0.769841</td>\n",
       "      <td>0.898148</td>\n",
       "      <td>0.829060</td>\n",
       "      <td>0.670228</td>\n",
       "    </tr>\n",
       "    <tr>\n",
       "      <th>2</th>\n",
       "      <td>Ada boost</td>\n",
       "      <td>0.73750</td>\n",
       "      <td>0.745313</td>\n",
       "      <td>0.779661</td>\n",
       "      <td>0.851852</td>\n",
       "      <td>0.814159</td>\n",
       "      <td>0.675926</td>\n",
       "    </tr>\n",
       "  </tbody>\n",
       "</table>\n",
       "</div>"
      ],
      "text/plain": [
       "           Model  Accuracy  Cross Val Accuracy  Precision    Recall  F1 Score  \\\n",
       "0  Decision Tree   0.65625            0.684375   0.747664  0.740741  0.744186   \n",
       "1  Random Forest   0.75000            0.745313   0.769841  0.898148  0.829060   \n",
       "2      Ada boost   0.73750            0.745313   0.779661  0.851852  0.814159   \n",
       "\n",
       "        ROC  \n",
       "0  0.610755  \n",
       "1  0.670228  \n",
       "2  0.675926  "
      ]
     },
     "execution_count": 165,
     "metadata": {},
     "output_type": "execute_result"
    }
   ],
   "source": [
    "y_predict_r = ada_boost_e.predict(X_test_clean)\n",
    "roc=roc_auc_score(y_test_clean, y_predict_r)\n",
    "acc = accuracy_score(y_test_clean, y_predict_r)\n",
    "prec = precision_score(y_test_clean, y_predict_r)\n",
    "rec = recall_score(y_test_clean, y_predict_r)\n",
    "f1 = f1_score(y_test_clean, y_predict_r)\n",
    "\n",
    "model_results = pd.DataFrame([['Ada boost',acc, acc_ada.mean(),prec,rec, f1,roc]],\n",
    "               columns = ['Model', 'Accuracy','Cross Val Accuracy', 'Precision', 'Recall', 'F1 Score','ROC'])\n",
    "results = results.append(model_results, ignore_index = True)\n",
    "results"
   ]
  },
  {
   "cell_type": "code",
   "execution_count": 166,
   "metadata": {},
   "outputs": [
    {
     "data": {
      "text/plain": [
       "SelectFromModel(estimator=RandomForestClassifier(criterion='entropy',\n",
       "                                                 random_state=47))"
      ]
     },
     "execution_count": 166,
     "metadata": {},
     "output_type": "execute_result"
    }
   ],
   "source": [
    "from sklearn.feature_selection import SelectFromModel\n",
    "sel = SelectFromModel(RandomForestClassifier(n_estimators = 100,criterion='entropy', random_state = 47))\n",
    "sel.fit(X_train_clean,y_train_clean)"
   ]
  },
  {
   "cell_type": "code",
   "execution_count": 167,
   "metadata": {},
   "outputs": [
    {
     "data": {
      "text/plain": [
       "RandomForestClassifier(criterion='entropy', random_state=47)"
      ]
     },
     "execution_count": 167,
     "metadata": {},
     "output_type": "execute_result"
    }
   ],
   "source": [
    "select_X_train = sel.transform(X_train_clean)\n",
    "select_X_test = sel.transform(X_test_clean) \n",
    "\n",
    "# train model\n",
    "#selection_model = XGBClassifier()\n",
    "selection_model1 = RandomForestClassifier(n_estimators = 100,criterion='entropy', random_state = 47)\n",
    "selection_model1.fit(select_X_train, y_train_clean)"
   ]
  },
  {
   "cell_type": "code",
   "execution_count": 168,
   "metadata": {},
   "outputs": [],
   "source": [
    "rfc_prd1 = selection_model1.predict(select_X_test)"
   ]
  },
  {
   "cell_type": "code",
   "execution_count": 169,
   "metadata": {},
   "outputs": [
    {
     "data": {
      "text/html": [
       "<div>\n",
       "<style scoped>\n",
       "    .dataframe tbody tr th:only-of-type {\n",
       "        vertical-align: middle;\n",
       "    }\n",
       "\n",
       "    .dataframe tbody tr th {\n",
       "        vertical-align: top;\n",
       "    }\n",
       "\n",
       "    .dataframe thead th {\n",
       "        text-align: right;\n",
       "    }\n",
       "</style>\n",
       "<table border=\"1\" class=\"dataframe\">\n",
       "  <thead>\n",
       "    <tr style=\"text-align: right;\">\n",
       "      <th></th>\n",
       "      <th>Model</th>\n",
       "      <th>Accuracy</th>\n",
       "      <th>Cross Val Accuracy</th>\n",
       "      <th>Precision</th>\n",
       "      <th>Recall</th>\n",
       "      <th>F1 Score</th>\n",
       "      <th>ROC</th>\n",
       "    </tr>\n",
       "  </thead>\n",
       "  <tbody>\n",
       "    <tr>\n",
       "      <th>0</th>\n",
       "      <td>Decision Tree</td>\n",
       "      <td>0.65625</td>\n",
       "      <td>0.684375</td>\n",
       "      <td>0.747664</td>\n",
       "      <td>0.740741</td>\n",
       "      <td>0.744186</td>\n",
       "      <td>0.610755</td>\n",
       "    </tr>\n",
       "    <tr>\n",
       "      <th>1</th>\n",
       "      <td>Random Forest</td>\n",
       "      <td>0.75000</td>\n",
       "      <td>0.745313</td>\n",
       "      <td>0.769841</td>\n",
       "      <td>0.898148</td>\n",
       "      <td>0.829060</td>\n",
       "      <td>0.670228</td>\n",
       "    </tr>\n",
       "    <tr>\n",
       "      <th>2</th>\n",
       "      <td>Ada boost</td>\n",
       "      <td>0.73750</td>\n",
       "      <td>0.745313</td>\n",
       "      <td>0.779661</td>\n",
       "      <td>0.851852</td>\n",
       "      <td>0.814159</td>\n",
       "      <td>0.675926</td>\n",
       "    </tr>\n",
       "    <tr>\n",
       "      <th>3</th>\n",
       "      <td>RFC</td>\n",
       "      <td>0.71875</td>\n",
       "      <td>0.745313</td>\n",
       "      <td>0.756098</td>\n",
       "      <td>0.861111</td>\n",
       "      <td>0.805195</td>\n",
       "      <td>0.642094</td>\n",
       "    </tr>\n",
       "  </tbody>\n",
       "</table>\n",
       "</div>"
      ],
      "text/plain": [
       "           Model  Accuracy  Cross Val Accuracy  Precision    Recall  F1 Score  \\\n",
       "0  Decision Tree   0.65625            0.684375   0.747664  0.740741  0.744186   \n",
       "1  Random Forest   0.75000            0.745313   0.769841  0.898148  0.829060   \n",
       "2      Ada boost   0.73750            0.745313   0.779661  0.851852  0.814159   \n",
       "3            RFC   0.71875            0.745313   0.756098  0.861111  0.805195   \n",
       "\n",
       "        ROC  \n",
       "0  0.610755  \n",
       "1  0.670228  \n",
       "2  0.675926  \n",
       "3  0.642094  "
      ]
     },
     "execution_count": 169,
     "metadata": {},
     "output_type": "execute_result"
    }
   ],
   "source": [
    "roc=roc_auc_score(y_test_clean, rfc_prd1)\n",
    "acc = accuracy_score(y_test_clean, rfc_prd1)\n",
    "prec = precision_score(y_test_clean, rfc_prd1)\n",
    "rec = recall_score(y_test_clean, rfc_prd1)\n",
    "f1 = f1_score(y_test_clean, rfc_prd1)\n",
    "\n",
    "model_results = pd.DataFrame([['RFC',acc, acc_ada.mean(),prec,rec, f1,roc]],\n",
    "               columns = ['Model', 'Accuracy','Cross Val Accuracy', 'Precision', 'Recall', 'F1 Score','ROC'])\n",
    "results = results.append(model_results, ignore_index = True)\n",
    "results"
   ]
  },
  {
   "cell_type": "code",
   "execution_count": 170,
   "metadata": {},
   "outputs": [],
   "source": [
    "from sklearn.model_selection import RandomizedSearchCV\n",
    "n_estimators = [int(x) for x in np.linspace(start=200, stop=2000, num=10)]\n",
    "max_features = ['auto', 'sqrt']\n",
    "max_depth = [int(x) for x in np.linspace(10, 110, num=11)]\n",
    "max_depth.append(None)\n",
    "min_samples_split = [2, 5, 10]\n",
    "min_samples_leaf = [1, 2, 4]\n",
    "bootstrap = [True, False]\n",
    "\n",
    "random_grid = {'n_estimators': n_estimators, 'max_features': max_features,\n",
    "               'max_depth': max_depth, 'min_samples_split': min_samples_split,\n",
    "               'min_samples_leaf': min_samples_leaf, 'bootstrap': bootstrap}\n",
    "\n",
    "rand_forest = RandomForestClassifier(random_state=42)\n",
    "\n",
    "rf_random = RandomizedSearchCV(estimator=rand_forest, param_distributions=random_grid, n_iter=100, cv=3, \n",
    "                               verbose=2, random_state=42, n_jobs=-1)"
   ]
  },
  {
   "cell_type": "code",
   "execution_count": 187,
   "metadata": {},
   "outputs": [
    {
     "name": "stdout",
     "output_type": "stream",
     "text": [
      "Fitting 3 folds for each of 100 candidates, totalling 300 fits\n"
     ]
    },
    {
     "name": "stderr",
     "output_type": "stream",
     "text": [
      "[Parallel(n_jobs=-1)]: Using backend LokyBackend with 4 concurrent workers.\n",
      "[Parallel(n_jobs=-1)]: Done  33 tasks      | elapsed:   38.7s\n",
      "[Parallel(n_jobs=-1)]: Done 154 tasks      | elapsed:  2.6min\n",
      "[Parallel(n_jobs=-1)]: Done 300 out of 300 | elapsed:  5.0min finished\n"
     ]
    },
    {
     "data": {
      "text/plain": [
       "RandomizedSearchCV(cv=3, estimator=RandomForestClassifier(random_state=42),\n",
       "                   n_iter=100, n_jobs=-1,\n",
       "                   param_distributions={'bootstrap': [True, False],\n",
       "                                        'max_depth': [10, 20, 30, 40, 50, 60,\n",
       "                                                      70, 80, 90, 100, 110,\n",
       "                                                      None],\n",
       "                                        'max_features': ['auto', 'sqrt'],\n",
       "                                        'min_samples_leaf': [1, 2, 4],\n",
       "                                        'min_samples_split': [2, 5, 10],\n",
       "                                        'n_estimators': [200, 400, 600, 800,\n",
       "                                                         1000, 1200, 1400, 1600,\n",
       "                                                         1800, 2000]},\n",
       "                   random_state=42, verbose=2)"
      ]
     },
     "execution_count": 187,
     "metadata": {},
     "output_type": "execute_result"
    }
   ],
   "source": [
    "rf_random.fit(X_train_clean,y_train_clean)"
   ]
  },
  {
   "cell_type": "code",
   "execution_count": 188,
   "metadata": {},
   "outputs": [
    {
     "data": {
      "text/plain": [
       "RandomForestClassifier(bootstrap=False, max_depth=90, min_samples_split=5,\n",
       "                       n_estimators=400, random_state=42)"
      ]
     },
     "execution_count": 188,
     "metadata": {},
     "output_type": "execute_result"
    }
   ],
   "source": [
    "rf_random.best_estimator_"
   ]
  },
  {
   "cell_type": "code",
   "execution_count": 189,
   "metadata": {},
   "outputs": [
    {
     "data": {
      "text/plain": [
       "RandomForestClassifier(bootstrap=False, max_depth=90, min_samples_split=5,\n",
       "                       n_estimators=400, random_state=42)"
      ]
     },
     "execution_count": 189,
     "metadata": {},
     "output_type": "execute_result"
    }
   ],
   "source": [
    "rand_forest = RandomForestClassifier(bootstrap=False,\n",
    "                                     max_depth = 90,\n",
    "                                     min_samples_split=5,\n",
    "                                     n_estimators = 400,\n",
    "                                     random_state=42)\n",
    "\n",
    "rand_forest.fit(X_train_clean,y_train_clean)"
   ]
  },
  {
   "cell_type": "code",
   "execution_count": 190,
   "metadata": {},
   "outputs": [
    {
     "data": {
      "text/plain": [
       "0.753125"
      ]
     },
     "execution_count": 190,
     "metadata": {},
     "output_type": "execute_result"
    }
   ],
   "source": [
    "acc_rande = cross_val_score(estimator = rand_forest, X = X_train_clean, y = y_train_clean, cv = kfold, scoring=scoring)\n",
    "acc_rande.mean()"
   ]
  },
  {
   "cell_type": "code",
   "execution_count": 191,
   "metadata": {},
   "outputs": [
    {
     "data": {
      "text/html": [
       "<div>\n",
       "<style scoped>\n",
       "    .dataframe tbody tr th:only-of-type {\n",
       "        vertical-align: middle;\n",
       "    }\n",
       "\n",
       "    .dataframe tbody tr th {\n",
       "        vertical-align: top;\n",
       "    }\n",
       "\n",
       "    .dataframe thead th {\n",
       "        text-align: right;\n",
       "    }\n",
       "</style>\n",
       "<table border=\"1\" class=\"dataframe\">\n",
       "  <thead>\n",
       "    <tr style=\"text-align: right;\">\n",
       "      <th></th>\n",
       "      <th>Model</th>\n",
       "      <th>Accuracy</th>\n",
       "      <th>Cross Val Accuracy</th>\n",
       "      <th>Precision</th>\n",
       "      <th>Recall</th>\n",
       "      <th>F1 Score</th>\n",
       "      <th>ROC</th>\n",
       "    </tr>\n",
       "  </thead>\n",
       "  <tbody>\n",
       "    <tr>\n",
       "      <th>0</th>\n",
       "      <td>Decision Tree</td>\n",
       "      <td>0.65625</td>\n",
       "      <td>0.684375</td>\n",
       "      <td>0.747664</td>\n",
       "      <td>0.740741</td>\n",
       "      <td>0.744186</td>\n",
       "      <td>0.610755</td>\n",
       "    </tr>\n",
       "    <tr>\n",
       "      <th>1</th>\n",
       "      <td>Random Forest</td>\n",
       "      <td>0.75000</td>\n",
       "      <td>0.745313</td>\n",
       "      <td>0.769841</td>\n",
       "      <td>0.898148</td>\n",
       "      <td>0.829060</td>\n",
       "      <td>0.670228</td>\n",
       "    </tr>\n",
       "    <tr>\n",
       "      <th>2</th>\n",
       "      <td>Ada boost</td>\n",
       "      <td>0.73750</td>\n",
       "      <td>0.745313</td>\n",
       "      <td>0.779661</td>\n",
       "      <td>0.851852</td>\n",
       "      <td>0.814159</td>\n",
       "      <td>0.675926</td>\n",
       "    </tr>\n",
       "    <tr>\n",
       "      <th>3</th>\n",
       "      <td>RFC</td>\n",
       "      <td>0.71875</td>\n",
       "      <td>0.745313</td>\n",
       "      <td>0.756098</td>\n",
       "      <td>0.861111</td>\n",
       "      <td>0.805195</td>\n",
       "      <td>0.642094</td>\n",
       "    </tr>\n",
       "    <tr>\n",
       "      <th>4</th>\n",
       "      <td>Random Forest1</td>\n",
       "      <td>0.72500</td>\n",
       "      <td>0.753125</td>\n",
       "      <td>0.762295</td>\n",
       "      <td>0.861111</td>\n",
       "      <td>0.808696</td>\n",
       "      <td>0.651709</td>\n",
       "    </tr>\n",
       "    <tr>\n",
       "      <th>5</th>\n",
       "      <td>KNN</td>\n",
       "      <td>0.66250</td>\n",
       "      <td>0.745313</td>\n",
       "      <td>0.682432</td>\n",
       "      <td>0.935185</td>\n",
       "      <td>0.789063</td>\n",
       "      <td>0.515670</td>\n",
       "    </tr>\n",
       "    <tr>\n",
       "      <th>6</th>\n",
       "      <td>Random Forest1</td>\n",
       "      <td>0.71875</td>\n",
       "      <td>0.753125</td>\n",
       "      <td>0.752000</td>\n",
       "      <td>0.870370</td>\n",
       "      <td>0.806867</td>\n",
       "      <td>0.637108</td>\n",
       "    </tr>\n",
       "  </tbody>\n",
       "</table>\n",
       "</div>"
      ],
      "text/plain": [
       "            Model  Accuracy  Cross Val Accuracy  Precision    Recall  \\\n",
       "0   Decision Tree   0.65625            0.684375   0.747664  0.740741   \n",
       "1   Random Forest   0.75000            0.745313   0.769841  0.898148   \n",
       "2       Ada boost   0.73750            0.745313   0.779661  0.851852   \n",
       "3             RFC   0.71875            0.745313   0.756098  0.861111   \n",
       "4  Random Forest1   0.72500            0.753125   0.762295  0.861111   \n",
       "5             KNN   0.66250            0.745313   0.682432  0.935185   \n",
       "6  Random Forest1   0.71875            0.753125   0.752000  0.870370   \n",
       "\n",
       "   F1 Score       ROC  \n",
       "0  0.744186  0.610755  \n",
       "1  0.829060  0.670228  \n",
       "2  0.814159  0.675926  \n",
       "3  0.805195  0.642094  \n",
       "4  0.808696  0.651709  \n",
       "5  0.789063  0.515670  \n",
       "6  0.806867  0.637108  "
      ]
     },
     "execution_count": 191,
     "metadata": {},
     "output_type": "execute_result"
    }
   ],
   "source": [
    "y_predict_r = rand_forest.predict(X_test_clean)\n",
    "roc=roc_auc_score(y_test_clean, y_predict_r)\n",
    "acc = accuracy_score(y_test_clean, y_predict_r)\n",
    "prec = precision_score(y_test_clean, y_predict_r)\n",
    "rec = recall_score(y_test_clean, y_predict_r)\n",
    "f1 = f1_score(y_test_clean, y_predict_r)\n",
    "\n",
    "model_results = pd.DataFrame([['Random Forest1',acc, acc_rande.mean(),prec,rec, f1,roc]],\n",
    "               columns = ['Model', 'Accuracy','Cross Val Accuracy', 'Precision', 'Recall', 'F1 Score','ROC'])\n",
    "results = results.append(model_results, ignore_index = True)\n",
    "results"
   ]
  },
  {
   "cell_type": "code",
   "execution_count": 174,
   "metadata": {},
   "outputs": [
    {
     "name": "stdout",
     "output_type": "stream",
     "text": [
      "k=1 56.56 (+/- 6.28)\n",
      "k=2 52.34 (+/- 3.22)\n",
      "k=3 63.75 (+/- 4.52)\n",
      "k=4 58.75 (+/- 4.90)\n",
      "k=5 67.19 (+/- 4.07)\n",
      "k=6 62.19 (+/- 4.35)\n",
      "k=7 69.22 (+/- 4.42)\n",
      "k=8 66.41 (+/- 3.91)\n",
      "k=9 69.69 (+/- 2.90)\n",
      "k=10 68.12 (+/- 4.26)\n",
      "k=11 69.53 (+/- 5.05)\n",
      "k=12 68.44 (+/- 5.13)\n",
      "k=13 69.69 (+/- 4.09)\n",
      "k=14 68.91 (+/- 4.96)\n",
      "k=15 70.16 (+/- 4.16)\n",
      "k=16 69.53 (+/- 3.37)\n",
      "k=17 70.94 (+/- 3.97)\n",
      "k=18 70.16 (+/- 3.98)\n",
      "k=19 71.88 (+/- 4.01)\n",
      "k=20 71.56 (+/- 3.75)\n",
      "k=21 72.19 (+/- 4.06)\n",
      "k=22 71.88 (+/- 4.42)\n",
      "k=23 72.03 (+/- 3.59)\n",
      "k=24 71.09 (+/- 3.97)\n",
      "k=25 71.72 (+/- 3.86)\n",
      "The optimal number of neighbors is 20 with 72.2%\n"
     ]
    },
    {
     "data": {
      "image/png": "[encoded data removed]",
      "text/plain": [
       "<Figure size 432x288 with 1 Axes>"
      ]
     },
     "metadata": {},
     "output_type": "display_data"
    }
   ],
   "source": [
    "from sklearn import model_selection\n",
    "from sklearn.neighbors import KNeighborsClassifier\n",
    "\n",
    "#Neighbors\n",
    "neighbors = np.arange(0,25)\n",
    "\n",
    "#Create empty list that will hold cv scores\n",
    "cv_scores = []\n",
    "\n",
    "#Perform 10-fold cross validation on training set for odd values of k:\n",
    "for k in neighbors:\n",
    "    k_value = k+1\n",
    "    knn = KNeighborsClassifier(n_neighbors = k_value, weights='uniform', p=2, metric='euclidean')\n",
    "    kfold = model_selection.KFold(n_splits=10, random_state=123)\n",
    "    scores = model_selection.cross_val_score(knn, X_train_clean,y_train_clean, cv=kfold, scoring='accuracy')\n",
    "    cv_scores.append(scores.mean()*100)\n",
    "    print(\"k=%d %0.2f (+/- %0.2f)\" % (k_value, scores.mean()*100, scores.std()*100))\n",
    "\n",
    "optimal_k = neighbors[cv_scores.index(max(cv_scores))]\n",
    "print (\"The optimal number of neighbors is %d with %0.1f%%\" % (optimal_k, cv_scores[optimal_k]))\n",
    "\n",
    "plt.plot(neighbors, cv_scores)\n",
    "plt.xlabel('Number of Neighbors K')\n",
    "plt.ylabel('Train Accuracy')\n",
    "plt.show()"
   ]
  },
  {
   "cell_type": "code",
   "execution_count": 175,
   "metadata": {},
   "outputs": [
    {
     "name": "stdout",
     "output_type": "stream",
     "text": [
      "[[  5  47]\n",
      " [  7 101]]\n",
      "66.0\n"
     ]
    }
   ],
   "source": [
    "from sklearn.neighbors import KNeighborsClassifier\n",
    "knn = KNeighborsClassifier(n_neighbors=20)\n",
    "knn.fit(X_train_clean,y_train_clean)\n",
    "knnpred = knn.predict(X_test_clean)\n",
    "\n",
    "print(confusion_matrix(y_test_clean, knnpred))\n",
    "print(round(accuracy_score(y_test_clean, knnpred),2)*100)\n",
    "KNNCV = (cross_val_score(knn, X_train_clean,y_train_clean, cv=kfold, n_jobs=1, scoring = 'accuracy').mean())"
   ]
  },
  {
   "cell_type": "code",
   "execution_count": 176,
   "metadata": {},
   "outputs": [
    {
     "data": {
      "text/html": [
       "<div>\n",
       "<style scoped>\n",
       "    .dataframe tbody tr th:only-of-type {\n",
       "        vertical-align: middle;\n",
       "    }\n",
       "\n",
       "    .dataframe tbody tr th {\n",
       "        vertical-align: top;\n",
       "    }\n",
       "\n",
       "    .dataframe thead th {\n",
       "        text-align: right;\n",
       "    }\n",
       "</style>\n",
       "<table border=\"1\" class=\"dataframe\">\n",
       "  <thead>\n",
       "    <tr style=\"text-align: right;\">\n",
       "      <th></th>\n",
       "      <th>Model</th>\n",
       "      <th>Accuracy</th>\n",
       "      <th>Cross Val Accuracy</th>\n",
       "      <th>Precision</th>\n",
       "      <th>Recall</th>\n",
       "      <th>F1 Score</th>\n",
       "      <th>ROC</th>\n",
       "    </tr>\n",
       "  </thead>\n",
       "  <tbody>\n",
       "    <tr>\n",
       "      <th>0</th>\n",
       "      <td>Decision Tree</td>\n",
       "      <td>0.65625</td>\n",
       "      <td>0.684375</td>\n",
       "      <td>0.747664</td>\n",
       "      <td>0.740741</td>\n",
       "      <td>0.744186</td>\n",
       "      <td>0.610755</td>\n",
       "    </tr>\n",
       "    <tr>\n",
       "      <th>1</th>\n",
       "      <td>Random Forest</td>\n",
       "      <td>0.75000</td>\n",
       "      <td>0.745313</td>\n",
       "      <td>0.769841</td>\n",
       "      <td>0.898148</td>\n",
       "      <td>0.829060</td>\n",
       "      <td>0.670228</td>\n",
       "    </tr>\n",
       "    <tr>\n",
       "      <th>2</th>\n",
       "      <td>Ada boost</td>\n",
       "      <td>0.73750</td>\n",
       "      <td>0.745313</td>\n",
       "      <td>0.779661</td>\n",
       "      <td>0.851852</td>\n",
       "      <td>0.814159</td>\n",
       "      <td>0.675926</td>\n",
       "    </tr>\n",
       "    <tr>\n",
       "      <th>3</th>\n",
       "      <td>RFC</td>\n",
       "      <td>0.71875</td>\n",
       "      <td>0.745313</td>\n",
       "      <td>0.756098</td>\n",
       "      <td>0.861111</td>\n",
       "      <td>0.805195</td>\n",
       "      <td>0.642094</td>\n",
       "    </tr>\n",
       "    <tr>\n",
       "      <th>4</th>\n",
       "      <td>Random Forest1</td>\n",
       "      <td>0.72500</td>\n",
       "      <td>0.753125</td>\n",
       "      <td>0.762295</td>\n",
       "      <td>0.861111</td>\n",
       "      <td>0.808696</td>\n",
       "      <td>0.651709</td>\n",
       "    </tr>\n",
       "    <tr>\n",
       "      <th>5</th>\n",
       "      <td>KNN</td>\n",
       "      <td>0.66250</td>\n",
       "      <td>0.745313</td>\n",
       "      <td>0.682432</td>\n",
       "      <td>0.935185</td>\n",
       "      <td>0.789063</td>\n",
       "      <td>0.515670</td>\n",
       "    </tr>\n",
       "  </tbody>\n",
       "</table>\n",
       "</div>"
      ],
      "text/plain": [
       "            Model  Accuracy  Cross Val Accuracy  Precision    Recall  \\\n",
       "0   Decision Tree   0.65625            0.684375   0.747664  0.740741   \n",
       "1   Random Forest   0.75000            0.745313   0.769841  0.898148   \n",
       "2       Ada boost   0.73750            0.745313   0.779661  0.851852   \n",
       "3             RFC   0.71875            0.745313   0.756098  0.861111   \n",
       "4  Random Forest1   0.72500            0.753125   0.762295  0.861111   \n",
       "5             KNN   0.66250            0.745313   0.682432  0.935185   \n",
       "\n",
       "   F1 Score       ROC  \n",
       "0  0.744186  0.610755  \n",
       "1  0.829060  0.670228  \n",
       "2  0.814159  0.675926  \n",
       "3  0.805195  0.642094  \n",
       "4  0.808696  0.651709  \n",
       "5  0.789063  0.515670  "
      ]
     },
     "execution_count": 176,
     "metadata": {},
     "output_type": "execute_result"
    }
   ],
   "source": [
    "y_predict_r = knnpred\n",
    "roc=roc_auc_score(y_test_clean, y_predict_r)\n",
    "acc = accuracy_score(y_test_clean, y_predict_r)\n",
    "prec = precision_score(y_test_clean, y_predict_r)\n",
    "rec = recall_score(y_test_clean, y_predict_r)\n",
    "f1 = f1_score(y_test_clean, y_predict_r)\n",
    "\n",
    "model_results = pd.DataFrame([['KNN',acc, acc_ada.mean(),prec,rec, f1,roc]],\n",
    "               columns = ['Model', 'Accuracy','Cross Val Accuracy', 'Precision', 'Recall', 'F1 Score','ROC'])\n",
    "results = results.append(model_results, ignore_index = True)\n",
    "results"
   ]
  },
  {
   "cell_type": "markdown",
   "metadata": {},
   "source": [
    "## Test data"
   ]
  },
  {
   "cell_type": "code",
   "execution_count": 178,
   "metadata": {},
   "outputs": [],
   "source": [
    "test_data = pd.read_csv('https://raw.githubusercontent.com/dphi-official/Datasets/master/credit_risk/testing_set_labels.csv')"
   ]
  },
  {
   "cell_type": "code",
   "execution_count": 179,
   "metadata": {},
   "outputs": [],
   "source": [
    "numdata_std = pd.DataFrame(StandardScaler().fit_transform(test_data[numvars]))"
   ]
  },
  {
   "cell_type": "code",
   "execution_count": 180,
   "metadata": {},
   "outputs": [
    {
     "name": "stdout",
     "output_type": "stream",
     "text": [
      "checking_status :  [\"'no checking'\" \"'<0'\" \"'0<=X<200'\" \"'>=200'\"]\n",
      "checking_status :  [3 1 0 2]\n",
      "credit_history :  [\"'existing paid'\" \"'delayed previously'\" \"'no credits/all paid'\"\n",
      " \"'critical/other existing credit'\" \"'all paid'\"]\n",
      "credit_history :  [3 2 4 1 0]\n",
      "purpose :  [\"'new car'\" 'radio/tv' 'repairs' \"'used car'\" 'business'\n",
      " 'furniture/equipment' 'retraining' 'education' \"'domestic appliance'\"]\n",
      "purpose :  [1 6 7 2 3 5 8 4 0]\n",
      "savings_status :  [\"'no known savings'\" \"'<100'\" \"'>=1000'\" \"'500<=X<1000'\" \"'100<=X<500'\"]\n",
      "savings_status :  [4 2 3 1 0]\n",
      "employment :  [\"'4<=X<7'\" \"'1<=X<4'\" \"'>=7'\" \"'<1'\" 'unemployed']\n",
      "employment :  [1 0 3 2 4]\n",
      "personal_status :  [\"'male single'\" \"'female div/dep/mar'\" \"'male div/sep'\" \"'male mar/wid'\"]\n",
      "personal_status :  [3 0 1 2]\n",
      "other_parties :  ['none' 'guarantor' \"'co applicant'\"]\n",
      "other_parties :  [2 1 0]\n",
      "property_magnitude :  [\"'life insurance'\" \"'no known property'\" 'car' \"'real estate'\"]\n",
      "property_magnitude :  [0 1 3 2]\n",
      "other_payment_plans :  ['none' 'bank' 'stores']\n",
      "other_payment_plans :  [1 0 2]\n",
      "housing :  ['own' \"'for free'\" 'rent']\n",
      "housing :  [1 0 2]\n",
      "job :  ['skilled' \"'high qualif/self emp/mgmt'\" \"'unskilled resident'\"\n",
      " \"'unemp/unskilled non res'\"]\n",
      "job :  [3 0 2 1]\n",
      "own_telephone :  ['none' 'yes']\n",
      "own_telephone :  [0 1]\n",
      "foreign_worker :  ['no' 'yes']\n",
      "foreign_worker :  [0 1]\n"
     ]
    }
   ],
   "source": [
    "# Encoding the variable\n",
    "lecatdata = test_data[catvars].apply(lambda x: d[x.name].fit_transform(x))\n",
    "\n",
    "# print transformations\n",
    "for x in range(len(catvars)):\n",
    "    print(catvars[x],\": \", test_data[catvars[x]].unique())\n",
    "    print(catvars[x],\": \", lecatdata[catvars[x]].unique())\n",
    "\n",
    "#One hot encoding, create dummy variables for every category of every categorical variable\n",
    "dummyvars = pd.get_dummies(test_data[catvars])"
   ]
  },
  {
   "cell_type": "code",
   "execution_count": 181,
   "metadata": {},
   "outputs": [
    {
     "name": "stdout",
     "output_type": "stream",
     "text": [
      "(200, 60)\n"
     ]
    }
   ],
   "source": [
    "test_data_clean = pd.concat([test_data[numvars], dummyvars], axis = 1)\n",
    "\n",
    "print(test_data_clean.shape)"
   ]
  },
  {
   "cell_type": "code",
   "execution_count": 182,
   "metadata": {},
   "outputs": [],
   "source": [
    "ypred1 = logmodel.predict(test_data_clean)"
   ]
  },
  {
   "cell_type": "code",
   "execution_count": 184,
   "metadata": {},
   "outputs": [],
   "source": [
    "res = pd.DataFrame(ypred1) #target is nothing but the final predictions of your model on input features of your new unseen test data\n",
    " \n",
    "res.columns = [\"prediction\"]\n",
    "res.to_csv(\"submission_rand.csv\")"
   ]
  },
  {
   "cell_type": "code",
   "execution_count": 185,
   "metadata": {},
   "outputs": [],
   "source": [
    "ypred1 = random_forest_e.predict(test_data_clean)"
   ]
  },
  {
   "cell_type": "code",
   "execution_count": 186,
   "metadata": {},
   "outputs": [],
   "source": [
    "res = pd.DataFrame(ypred1) #target is nothing but the final predictions of your model on input features of your new unseen test data\n",
    " \n",
    "res.columns = [\"prediction\"]\n",
    "res.to_csv(\"submission_rand.csv\")"
   ]
  },
  {
   "cell_type": "code",
   "execution_count": 192,
   "metadata": {},
   "outputs": [],
   "source": [
    "ypred2 = rand_forest.predict(test_data_clean)"
   ]
  },
  {
   "cell_type": "code",
   "execution_count": 193,
   "metadata": {},
   "outputs": [],
   "source": [
    "res = pd.DataFrame(ypred2) #target is nothing but the final predictions of your model on input features of your new unseen test data\n",
    " \n",
    "res.columns = [\"prediction\"]\n",
    "res.to_csv(\"submission_rand1.csv\")"
   ]
  },
  {
   "cell_type": "code",
   "execution_count": 210,
   "metadata": {},
   "outputs": [],
   "source": [
    "ypred3 = ada_boost_e.predict(test_data_clean)"
   ]
  },
  {
   "cell_type": "code",
   "execution_count": 211,
   "metadata": {},
   "outputs": [],
   "source": [
    "res = pd.DataFrame(ypred3) #target is nothing but the final predictions of your model on input features of your new unseen test data\n",
    " \n",
    "res.columns = [\"prediction\"]\n",
    "res.to_csv(\"submission_ada.csv\")"
   ]
  },
  {
   "cell_type": "code",
   "execution_count": null,
   "metadata": {},
   "outputs": [],
   "source": []
  }
 ],
 "metadata": {
  "kernelspec": {
   "display_name": "Python 3",
   "language": "python",
   "name": "python3"
  },
  "language_info": {
   "codemirror_mode": {
    "name": "ipython",
    "version": 3
   },
   "file_extension": ".py",
   "mimetype": "text/x-python",
   "name": "python",
   "nbconvert_exporter": "python",
   "pygments_lexer": "ipython3",
   "version": "3.7.3"
  }
 },
 "nbformat": 4,
 "nbformat_minor": 2
}
